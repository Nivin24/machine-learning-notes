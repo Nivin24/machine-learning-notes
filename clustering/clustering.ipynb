{
 "cells": [
  {
   "cell_type": "markdown",
   "metadata": {},
   "source": [
    "# Clustering Playground\n",
    "This notebook demonstrates K-means, Agglomerative (hierarchical), and DBSCAN on synthetic and real-like datasets with evaluation and visualization."
   ]
  },
  {
   "cell_type": "code",
   "execution_count": null,
   "metadata": {},
   "outputs": [],
   "source": [
    "# Setup\n",
    "import numpy as np\n",
    "import matplotlib.pyplot as plt\n",
    "from sklearn.datasets import make_blobs, make_moons\n",
    "from sklearn.preprocessing import StandardScaler\n",
    "from sklearn.decomposition import PCA\n",
    "from sklearn.cluster import KMeans, AgglomerativeClustering, DBSCAN\n",
    "from sklearn.metrics import silhouette_score, davies_bouldin_score, calinski_harabasz_score\n",
    "np.random.seed(42)\n",
    "%matplotlib inline"
   ]
  },
  {
   "cell_type": "markdown",
   "metadata": {},
   "source": [
    "## 1) Create datasets"
   ]
  },
  {
   "cell_type": "code",
   "execution_count": null,
   "metadata": {},
   "outputs": [],
   "source": [
    "X_blobs, _ = make_blobs(n_samples=800, centers=4, cluster_std=1.2, random_state=42)\n",
    "X_moons, _ = make_moons(n_samples=800, noise=0.06, random_state=42)\n",
    "scaler = StandardScaler()\n",
    "Xb = scaler.fit_transform(X_blobs)\n",
    "Xm = scaler.fit_transform(X_moons)\n",
    "fig, axs = plt.subplots(1,2, figsize=(10,4))\n",
    "axs[0].scatter(Xb[:,0], Xb[:,1], s=5); axs[0].set_title('Blobs (std)')\n",
    "axs[1].scatter(Xm[:,0], Xm[:,1], s=5); axs[1].set_title('Moons (std)')\n",
    "plt.show()"
   ]
  },
  {
   "cell_type": "markdown",
   "metadata": {},
   "source": [
    "## 2) K-means on blobs"
   ]
  },
  {
   "cell_type": "code",
   "execution_count": null,
   "metadata": {},
   "outputs": [],
   "source": [
    "km = KMeans(n_clusters=4, init='k-means++', random_state=42)\n",
    "labels_km = km.fit_predict(Xb)\n",
    "sil_km = silhouette_score(Xb, labels_km)\n",
    "dbi_km = davies_bouldin_score(Xb, labels_km)\n",
    "chi_km = calinski_harabasz_score(Xb, labels_km)\n",
    "plt.scatter(Xb[:,0], Xb[:,1], c=labels_km, s=5, cmap='tab10');\n",
    "plt.scatter(km.cluster_centers_[:,0], km.cluster_centers_[:,1], c='red', marker='x', s=100);\n",
    "plt.title(f'K-means (sil={sil_km:.2f}, DBI={dbi_km:.2f}, CH={chi_km:.0f})'); plt.show()"
   ]
  },
  {
   "cell_type": "markdown",
   "metadata": {},
   "source": [
    "## 3) Agglomerative (Ward) on blobs"
   ]
  },
  {
   "cell_type": "code",
   "execution_count": null,
   "metadata": {},
   "outputs": [],
   "source": [
    "agg = AgglomerativeClustering(n_clusters=4, linkage='ward')\n",
    "labels_agg = agg.fit_predict(Xb)\n",
    "sil_agg = silhouette_score(Xb, labels_agg)\n",
    "dbi_agg = davies_bouldin_score(Xb, labels_agg)\n",
    "chi_agg = calinski_harabasz_score(Xb, labels_agg)\n",
    "plt.scatter(Xb[:,0], Xb[:,1], c=labels_agg, s=5, cmap='tab10');\n",
    "plt.title(f'Agglomerative-Ward (sil={sil_agg:.2f}, DBI={dbi_agg:.2f}, CH={chi_agg:.0f})'); plt.show()"
   ]
  },
  {
   "cell_type": "markdown",
   "metadata": {},
   "source": [
    "## 4) DBSCAN on moons"
   ]
  },
  {
   "cell_type": "code",
   "execution_count": null,
   "metadata": {},
   "outputs": [],
   "source": [
    "dbs = DBSCAN(eps=0.3, min_samples=5)\n",
    "labels_dbs = dbs.fit_predict(Xm)\n",
    "n_clusters = len(set(labels_dbs)) - (1 if -1 in labels_dbs else 0)\n",
    "sil = silhouette_score(Xm, labels_dbs) if n_clusters > 1 else float('nan')\n",
    "plt.scatter(Xm[:,0], Xm[:,1], c=labels_dbs, s=5, cmap='tab10');\n",
    "plt.title(f'DBSCAN moons (clusters={n_clusters}, sil={sil:.2f})'); plt.show()"
   ]
  },
  {
   "cell_type": "markdown",
   "metadata": {},
   "source": [
    "## 5) Real-like high-dim via PCA (using blobs)"
   ]
  },
  {
   "cell_type": "code",
   "execution_count": null,
   "metadata": {},
   "outputs": [],
   "source": [
    "# Create a 10-D variant and reduce to 2D for visualization\n",
    "X_hd, _ = make_blobs(n_samples=1000, centers=5, n_features=10, cluster_std=2.0, random_state=42)\n",
    "X_hd = StandardScaler().fit_transform(X_hd)\n",
    "pca = PCA(n_components=2, random_state=42)\n",
    "X_hd_2d = pca.fit_transform(X_hd)\n",
    "for name, model in [('KMeans-5', KMeans(n_clusters=5, random_state=42)),\n",
    "                    ('Agglo-5', AgglomerativeClustering(n_clusters=5, linkage='ward')),\n",
    "                    ('DBSCAN', DBSCAN(eps=0.7, min_samples=5))]:\n",
    "    labels = model.fit_predict(X_hd)\n",
    "    sil = silhouette_score(X_hd, labels) if len(set(labels))>1 else float('nan')\n",
    "    plt.figure(figsize=(4,3))\n",
    "    plt.scatter(X_hd_2d[:,0], X_hd_2d[:,1], c=labels, s=5, cmap='tab10');\n",
    "    plt.title(f'{name} on high-dim (sil={sil:.2f})')\n",
    "    plt.tight_layout(); plt.show()"
   ]
  }
 ],
 "metadata": {
  "kernelspec": {"display_name": "Python 3", "language": "python", "name": "python3"},
  "language_info": {"name": "python", "version": "3.11"}
 },
 "nbformat": 4,
 "nbformat_minor": 5
}
