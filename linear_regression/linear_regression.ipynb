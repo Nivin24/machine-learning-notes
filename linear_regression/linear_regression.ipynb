{
 "cells": [
  {
   "cell_type": "markdown",
   "source": [
    "# Linear Regression: Step-By-Step Implementation\n",
    "Theory and hands-on code for linear regression in Python."
   ]
  },
  {
   "cell_type": "code",
   "source": [
    "import numpy as np\n",
    "import matplotlib.pyplot as plt\n",
    "# Create example data\n",
    "X = np.linspace(1, 10, 100)\n",
    "y = 2 * X + 1 + np.random.randn(100)\n"
   ]
  },
  {
   "cell_type": "markdown",
   "source": [
    "## Compute Cost Function"
   ]
  },
  {
   "cell_type": "code",
   "source": [
    "def compute_cost(X, y, w, b):\n",
    "    m = len(y)\n",
    "    cost = (1/(2*m)) * np.sum((w * X + b - y) ** 2)\n",
    "    return cost"
   ]
  }
 ],
 "metadata": {
  "kernelspec": {"display_name": "Python 3", "language": "python", "name": "python3"},
  "language_info": {"name": "python"}
 },
 "nbformat": 4,
 "nbformat_minor": 2
}
